{
 "cells": [
  {
   "cell_type": "code",
   "execution_count": null,
   "id": "07a08f41-6bc8-40f8-936b-55115e3dc1ba",
   "metadata": {},
   "outputs": [],
   "source": [
    "import numpy as np\n",
    "import matplotlib.pyplot as plt\n",
    "%matplotlib inline"
   ]
  },
  {
   "cell_type": "code",
   "execution_count": null,
   "id": "08fa0ff5-4bad-4ab4-9f12-8f54432a80fc",
   "metadata": {},
   "outputs": [],
   "source": [
    "albedo_data = np.genfromtxt('albedo_table.txt',delimiter=',',skip_header=1)\n",
    "Ts = albedo_data[:,0]\n",
    "lats = albedo_data[:,1]\n",
    "αs = albedo_data[:,2]\n",
    "\n",
    "T_fit = np.polyfit(Ts,αs,1)\n",
    "lat_fit = np.polyfit(lats,αs,1)\n",
    "\n",
    "ϵ = 1.\n",
    "σ = 5.67E-8          # W/m2 K4\n",
    "N = 100"
   ]
  },
  {
   "cell_type": "code",
   "execution_count": null,
   "id": "b5ab363a-13b7-4bac-8687-81bc9b5fddd3",
   "metadata": {},
   "outputs": [],
   "source": [
    "LRange = [1200, 1600]\n",
    "dL = 10\n",
    "\n",
    "plt.figure(figsize=(10,4))\n",
    "ax1 = plt.subplot(131)\n",
    "ax2 = plt.subplot(132)\n",
    "ax3 = plt.subplot(133)\n",
    "\n",
    "L = LRange[0]\n",
    "α = .65\n",
    "while L < LRange[1]+1:\n",
    "    for i in range(N):\n",
    "        T = (L*(1.-α)/(4*ϵ*σ))**(1/4.)\n",
    "        α = T*T_fit[0]+T_fit[1]\n",
    "        α = min(α,.65)\n",
    "        α = max(α,.15)\n",
    "        ax1.plot(i,T,'k.')\n",
    "    ax3.plot(L,T,'r.',ms=5)\n",
    "    L = L + dL\n",
    "\n",
    "L = LRange[1]\n",
    "α = 0.15\n",
    "while L > LRange[0]-1:\n",
    "    for i in range(N):\n",
    "        T = (L*(1.-α)/(4*σ))**(1/4.)\n",
    "        α = T*T_fit[0]+T_fit[1]\n",
    "        α = min(α,.65)\n",
    "        α = max(α,.15)\n",
    "        ax2.plot(i,T,'k.')\n",
    "    ax3.plot(L,T,'b.',ms=2.5)\n",
    "    L = L - dL"
   ]
  }
 ],
 "metadata": {
  "kernelspec": {
   "display_name": "Python 3",
   "language": "python",
   "name": "python3"
  },
  "language_info": {
   "codemirror_mode": {
    "name": "ipython",
    "version": 3
   },
   "file_extension": ".py",
   "mimetype": "text/x-python",
   "name": "python",
   "nbconvert_exporter": "python",
   "pygments_lexer": "ipython3",
   "version": "3.8.8"
  }
 },
 "nbformat": 4,
 "nbformat_minor": 5
}
