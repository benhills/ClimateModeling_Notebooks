{
 "cells": [
  {
   "cell_type": "code",
   "execution_count": null,
   "id": "19532053-00cd-4d0d-9548-843ead789d1b",
   "metadata": {},
   "outputs": [],
   "source": [
    "import numpy as np\n",
    "import matplotlib.pyplot as plt\n",
    "%matplotlib notebook"
   ]
  },
  {
   "cell_type": "code",
   "execution_count": null,
   "id": "e6314694-95fb-4a49-934e-e04a73771c71",
   "metadata": {},
   "outputs": [],
   "source": [
    "nX = 10                # number of grid points\n",
    "domainWidth = 1e6      # meters\n",
    "dt = 100         # years\n",
    "nYears = 50000         # years\n",
    "flowParam = 1e4        # m horizontal / yr\n",
    "snowFall = 0.5         # m / y"
   ]
  },
  {
   "cell_type": "code",
   "execution_count": null,
   "id": "0161166a-d63a-4d34-b156-4e25e7d89a8e",
   "metadata": {},
   "outputs": [],
   "source": [
    "X = np.linspace(0,domainWidth,nX+2)\n",
    "dX = X[1]-X[0]\n",
    "elevations = np.zeros(nX+2)\n",
    "flow = np.zeros(nX+1)\n",
    "\n",
    "fig, ax = plt.subplots()\n",
    "ax.plot(elevations)\n",
    "ax.set_ylim([0,3500])\n",
    "plt.show(block=False)\n",
    "\n",
    "for t in range(0,nYears,dt):\n",
    "    flow = ( elevations[:-1] - elevations[1:] ) / dX * flowParam  * \\\n",
    "        ( elevations[:-1]+elevations[1:] ) / 2 / dX\n",
    "\n",
    "    elevations[1:-1] += dt * (snowFall + flow[:-1] - flow[1:] )\n",
    "    \n",
    "    ax.clear()\n",
    "    ax.plot( elevations )\n",
    "    plt.show( block=False )\n",
    "    plt.pause(0.001)\n",
    "    fig.canvas.draw()"
   ]
  }
 ],
 "metadata": {
  "kernelspec": {
   "display_name": "Python 3",
   "language": "python",
   "name": "python3"
  },
  "language_info": {
   "codemirror_mode": {
    "name": "ipython",
    "version": 3
   },
   "file_extension": ".py",
   "mimetype": "text/x-python",
   "name": "python",
   "nbconvert_exporter": "python",
   "pygments_lexer": "ipython3",
   "version": "3.8.8"
  }
 },
 "nbformat": 4,
 "nbformat_minor": 5
}
