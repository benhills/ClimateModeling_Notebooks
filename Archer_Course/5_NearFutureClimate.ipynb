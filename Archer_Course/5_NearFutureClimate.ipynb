{
 "cells": [
  {
   "cell_type": "markdown",
   "id": "9d225886-25ec-4a0b-80a0-7b38b6d42ff6",
   "metadata": {},
   "source": [
    "# Near-Future Climate Modeling\n",
    "\n",
    "This is a model from Dr. David Archer's course."
   ]
  },
  {
   "cell_type": "code",
   "execution_count": 1,
   "id": "da5f46ca-467f-4350-91c1-ea2352ed48f6",
   "metadata": {},
   "outputs": [],
   "source": [
    "import numpy as np\n",
    "import matplotlib.pyplot as plt\n",
    "%matplotlib inline\n",
    "import math"
   ]
  },
  {
   "cell_type": "markdown",
   "id": "835c498a-f6a5-4aeb-849b-a10a0fcac264",
   "metadata": {},
   "source": [
    "# Business as Usual"
   ]
  },
  {
   "cell_type": "code",
   "execution_count": null,
   "id": "238f074e-0308-4902-bfec-9a2c177173cd",
   "metadata": {},
   "outputs": [],
   "source": [
    "rfCO2 = climateSensitivity2x * math.log( bauCO2 / eqCO2 ) / math.log( 2 )"
   ]
  },
  {
   "cell_type": "code",
   "execution_count": null,
   "id": "e3bcd118-55fc-4211-a526-b0339566e686",
   "metadata": {},
   "outputs": [],
   "source": [
    "change in T_transient = ( T_eq - T_transient ) * timestep_years / t_response_time"
   ]
  },
  {
   "cell_type": "markdown",
   "id": "53ce62ff-d30f-4f65-90f3-f66515541710",
   "metadata": {},
   "source": [
    "# The World Without Us"
   ]
  }
 ],
 "metadata": {
  "kernelspec": {
   "display_name": "Python 3",
   "language": "python",
   "name": "python3"
  },
  "language_info": {
   "codemirror_mode": {
    "name": "ipython",
    "version": 3
   },
   "file_extension": ".py",
   "mimetype": "text/x-python",
   "name": "python",
   "nbconvert_exporter": "python",
   "pygments_lexer": "ipython3",
   "version": "3.8.8"
  }
 },
 "nbformat": 4,
 "nbformat_minor": 5
}
