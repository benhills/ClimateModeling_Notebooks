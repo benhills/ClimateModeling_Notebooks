{
 "cells": [
  {
   "cell_type": "code",
   "execution_count": null,
   "id": "4af33b67-b3f7-4741-bcf8-865313df90d0",
   "metadata": {},
   "outputs": [],
   "source": [
    "import numpy as np\n",
    "import matplotlib.pyplot as plt"
   ]
  },
  {
   "cell_type": "code",
   "execution_count": null,
   "id": "c2f0caf8-852d-46a1-9a15-a536799c50cd",
   "metadata": {},
   "outputs": [],
   "source": [
    "# general constants\n",
    "spy = 3.14e7\n",
    "cw = 4182.\n",
    "ρw = 1000.\n",
    "\n",
    "# Radiation constants\n",
    "L = 1350                 # Watts/m2\n",
    "α = 0.3\n",
    "ϵ = 1\n",
    "σ = 5.67E-8          # W/m2 K4\n",
    "\n",
    "# Heat capacity of the idealized ocean\n",
    "dw = 4000        # meters water\n",
    "c = cw*ρw*dw\n",
    "\n",
    "# Time array\n",
    "t_init = 0.\n",
    "t_final = 1e3\n",
    "dt = 10.           # years\n",
    "times = np.arange(t_init,t_final,dt)"
   ]
  },
  {
   "cell_type": "code",
   "execution_count": null,
   "id": "29e9ecbb-5f1f-4e59-abc3-2264e1396c98",
   "metadata": {},
   "outputs": [],
   "source": [
    "T = 223.\n",
    "E = T*c\n",
    "\n",
    "plt.figure()\n",
    "plt.ylabel('Temp')\n",
    "plt.xlabel('Years')\n",
    "\n",
    "for t in times:\n",
    "    dE = L*(1-α)/4 - ϵ * σ * T**4.\n",
    "    E += dE * dt*spy\n",
    "    T = E/c\n",
    "    plt.plot(t,T,'k.')"
   ]
  }
 ],
 "metadata": {
  "kernelspec": {
   "display_name": "Python 3",
   "language": "python",
   "name": "python3"
  },
  "language_info": {
   "codemirror_mode": {
    "name": "ipython",
    "version": 3
   },
   "file_extension": ".py",
   "mimetype": "text/x-python",
   "name": "python",
   "nbconvert_exporter": "python",
   "pygments_lexer": "ipython3",
   "version": "3.8.8"
  }
 },
 "nbformat": 4,
 "nbformat_minor": 5
}
